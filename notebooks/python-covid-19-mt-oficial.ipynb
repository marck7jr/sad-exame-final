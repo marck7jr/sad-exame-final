{
 "metadata": {
  "language_info": {
   "codemirror_mode": {
    "name": "ipython",
    "version": 3
   },
   "file_extension": ".py",
   "mimetype": "text/x-python",
   "name": "python",
   "nbconvert_exporter": "python",
   "pygments_lexer": "ipython3",
   "version": "3.8.3-final"
  },
  "orig_nbformat": 2,
  "kernelspec": {
   "name": "python3",
   "display_name": "Python 3",
   "language": "python"
  }
 },
 "nbformat": 4,
 "nbformat_minor": 2,
 "cells": [
  {
   "source": [
    "# Trabalho Final\n",
    "\n",
    "Em grupos de até quatro alunos, desenvolver um Sistema de Apoio à Decisão para políticas públicas. Utilizem os dados públicos disponíveis em dados.gov.br ou outra fonte oficial.\n",
    "\n",
    "Este sistema deve conter os módulos de tratamento de dados, modelos e visualização. A implementação pode ser entregue via link de ambientes de desenvolvimento web (Colab, Kaggle, etc.), vídeo-demonstração ou documento contendo as telas e código fonte. Entrega 1, 10 pontos\n",
    "\n",
    "Com as informações obtidas pelo sistema desenvolvido, escreva um artigo utilizando o template da SBC (https://www.sbc.org.br/documentos-da-sbc/category/169-templates-para-artigos-e-capitulos-de-livros) explicando o SAD, a(s) decisão(ões) que ele suporta e conclusões observadas. Entrega 2, 10 pontos\n",
    "\n",
    "Observações:\n",
    "\n",
    "Utilizem o forum deste módulo para dúvidas sobre o trabalho;\n",
    "\n",
    "Informem os componentes do grupo até o dia 30/11/2020.\n",
    "\n",
    "Bom trabalho."
   ],
   "cell_type": "markdown",
   "metadata": {}
  },
  {
   "source": [
    "## Proposta\n",
    "\n",
    "Considerando o estado de pandemia que se alastrou globalmente, o presente trabalho tem como objetivo desenvolver um Sistema de Apoio a Decisão na identificação de munícipios matogrossenses em estado de calamidade pública com a necessidade de intervenção do governo estudal na implementação de ações preventivas em relação à disseminação do vírus COVID-19. O dataset utilizado está disponível no [Portal da COVID-19 do Governo Brasileiro](https://covid.saude.gov.br/) que conta com dados de boletins atualizados de casos e óbitos confirmados do Corona Vírus que é atualizado regularmente com cobertura presente em todo o território nacional."
   ],
   "cell_type": "markdown",
   "metadata": {}
  },
  {
   "cell_type": "code",
   "execution_count": 1,
   "metadata": {},
   "outputs": [
    {
     "output_type": "stream",
     "name": "stdout",
     "text": [
      "Using matplotlib backend: Qt5Agg\n"
     ]
    },
    {
     "output_type": "execute_result",
     "data": {
      "text/plain": [
       "               regiao estado         municipio  coduf    codmun  \\\n",
       "1355438  Centro-Oeste     MT          Acorizal     51  510010.0   \n",
       "1355439  Centro-Oeste     MT          Acorizal     51  510010.0   \n",
       "1355440  Centro-Oeste     MT          Acorizal     51  510010.0   \n",
       "1355441  Centro-Oeste     MT          Acorizal     51  510010.0   \n",
       "1355442  Centro-Oeste     MT          Acorizal     51  510010.0   \n",
       "...               ...    ...               ...    ...       ...   \n",
       "1391952  Centro-Oeste     MT  Nova Monte Verde     51  510895.0   \n",
       "1391953  Centro-Oeste     MT  Nova Monte Verde     51  510895.0   \n",
       "1391954  Centro-Oeste     MT  Nova Monte Verde     51  510895.0   \n",
       "1391955  Centro-Oeste     MT  Nova Monte Verde     51  510895.0   \n",
       "1391956  Centro-Oeste     MT  Nova Monte Verde     51  510895.0   \n",
       "\n",
       "         codRegiaoSaude   nomeRegiaoSaude        data  semanaEpi  \\\n",
       "1355438         51002.0  BAIXADA CUIABANA  2020-03-27         13   \n",
       "1355439         51002.0  BAIXADA CUIABANA  2020-03-28         13   \n",
       "1355440         51002.0  BAIXADA CUIABANA  2020-03-29         14   \n",
       "1355441         51002.0  BAIXADA CUIABANA  2020-03-30         14   \n",
       "1355442         51002.0  BAIXADA CUIABANA  2020-03-31         14   \n",
       "...                 ...               ...         ...        ...   \n",
       "1391952         51001.0      ALTO TAPAJOS  2020-12-06         50   \n",
       "1391953         51001.0      ALTO TAPAJOS  2020-12-07         50   \n",
       "1391954         51001.0      ALTO TAPAJOS  2020-12-08         50   \n",
       "1391955         51001.0      ALTO TAPAJOS  2020-12-09         50   \n",
       "1391956         51001.0      ALTO TAPAJOS  2020-12-10         50   \n",
       "\n",
       "         populacaoTCU2019  casosAcumulado  casosNovos  obitosAcumulado  \\\n",
       "1355438            5399.0               0           0                0   \n",
       "1355439            5399.0               0           0                0   \n",
       "1355440            5399.0               0           0                0   \n",
       "1355441            5399.0               0           0                0   \n",
       "1355442            5399.0               0           0                0   \n",
       "...                   ...             ...         ...              ...   \n",
       "1391952            9178.0             137           0                1   \n",
       "1391953            9178.0             139           2                1   \n",
       "1391954            9178.0             142           3                1   \n",
       "1391955            9178.0             143           1                1   \n",
       "1391956            9178.0             144           1                1   \n",
       "\n",
       "         obitosNovos  Recuperadosnovos  emAcompanhamentoNovos  \\\n",
       "1355438            0               NaN                    NaN   \n",
       "1355439            0               NaN                    NaN   \n",
       "1355440            0               NaN                    NaN   \n",
       "1355441            0               NaN                    NaN   \n",
       "1355442            0               NaN                    NaN   \n",
       "...              ...               ...                    ...   \n",
       "1391952            0               NaN                    NaN   \n",
       "1391953            0               NaN                    NaN   \n",
       "1391954            0               NaN                    NaN   \n",
       "1391955            0               NaN                    NaN   \n",
       "1391956            0               NaN                    NaN   \n",
       "\n",
       "         interior/metropolitana  \n",
       "1355438                     1.0  \n",
       "1355439                     1.0  \n",
       "1355440                     1.0  \n",
       "1355441                     1.0  \n",
       "1355442                     1.0  \n",
       "...                         ...  \n",
       "1391952                     0.0  \n",
       "1391953                     0.0  \n",
       "1391954                     0.0  \n",
       "1391955                     0.0  \n",
       "1391956                     0.0  \n",
       "\n",
       "[36519 rows x 17 columns]"
      ],
      "text/html": "<div>\n<style scoped>\n    .dataframe tbody tr th:only-of-type {\n        vertical-align: middle;\n    }\n\n    .dataframe tbody tr th {\n        vertical-align: top;\n    }\n\n    .dataframe thead th {\n        text-align: right;\n    }\n</style>\n<table border=\"1\" class=\"dataframe\">\n  <thead>\n    <tr style=\"text-align: right;\">\n      <th></th>\n      <th>regiao</th>\n      <th>estado</th>\n      <th>municipio</th>\n      <th>coduf</th>\n      <th>codmun</th>\n      <th>codRegiaoSaude</th>\n      <th>nomeRegiaoSaude</th>\n      <th>data</th>\n      <th>semanaEpi</th>\n      <th>populacaoTCU2019</th>\n      <th>casosAcumulado</th>\n      <th>casosNovos</th>\n      <th>obitosAcumulado</th>\n      <th>obitosNovos</th>\n      <th>Recuperadosnovos</th>\n      <th>emAcompanhamentoNovos</th>\n      <th>interior/metropolitana</th>\n    </tr>\n  </thead>\n  <tbody>\n    <tr>\n      <th>1355438</th>\n      <td>Centro-Oeste</td>\n      <td>MT</td>\n      <td>Acorizal</td>\n      <td>51</td>\n      <td>510010.0</td>\n      <td>51002.0</td>\n      <td>BAIXADA CUIABANA</td>\n      <td>2020-03-27</td>\n      <td>13</td>\n      <td>5399.0</td>\n      <td>0</td>\n      <td>0</td>\n      <td>0</td>\n      <td>0</td>\n      <td>NaN</td>\n      <td>NaN</td>\n      <td>1.0</td>\n    </tr>\n    <tr>\n      <th>1355439</th>\n      <td>Centro-Oeste</td>\n      <td>MT</td>\n      <td>Acorizal</td>\n      <td>51</td>\n      <td>510010.0</td>\n      <td>51002.0</td>\n      <td>BAIXADA CUIABANA</td>\n      <td>2020-03-28</td>\n      <td>13</td>\n      <td>5399.0</td>\n      <td>0</td>\n      <td>0</td>\n      <td>0</td>\n      <td>0</td>\n      <td>NaN</td>\n      <td>NaN</td>\n      <td>1.0</td>\n    </tr>\n    <tr>\n      <th>1355440</th>\n      <td>Centro-Oeste</td>\n      <td>MT</td>\n      <td>Acorizal</td>\n      <td>51</td>\n      <td>510010.0</td>\n      <td>51002.0</td>\n      <td>BAIXADA CUIABANA</td>\n      <td>2020-03-29</td>\n      <td>14</td>\n      <td>5399.0</td>\n      <td>0</td>\n      <td>0</td>\n      <td>0</td>\n      <td>0</td>\n      <td>NaN</td>\n      <td>NaN</td>\n      <td>1.0</td>\n    </tr>\n    <tr>\n      <th>1355441</th>\n      <td>Centro-Oeste</td>\n      <td>MT</td>\n      <td>Acorizal</td>\n      <td>51</td>\n      <td>510010.0</td>\n      <td>51002.0</td>\n      <td>BAIXADA CUIABANA</td>\n      <td>2020-03-30</td>\n      <td>14</td>\n      <td>5399.0</td>\n      <td>0</td>\n      <td>0</td>\n      <td>0</td>\n      <td>0</td>\n      <td>NaN</td>\n      <td>NaN</td>\n      <td>1.0</td>\n    </tr>\n    <tr>\n      <th>1355442</th>\n      <td>Centro-Oeste</td>\n      <td>MT</td>\n      <td>Acorizal</td>\n      <td>51</td>\n      <td>510010.0</td>\n      <td>51002.0</td>\n      <td>BAIXADA CUIABANA</td>\n      <td>2020-03-31</td>\n      <td>14</td>\n      <td>5399.0</td>\n      <td>0</td>\n      <td>0</td>\n      <td>0</td>\n      <td>0</td>\n      <td>NaN</td>\n      <td>NaN</td>\n      <td>1.0</td>\n    </tr>\n    <tr>\n      <th>...</th>\n      <td>...</td>\n      <td>...</td>\n      <td>...</td>\n      <td>...</td>\n      <td>...</td>\n      <td>...</td>\n      <td>...</td>\n      <td>...</td>\n      <td>...</td>\n      <td>...</td>\n      <td>...</td>\n      <td>...</td>\n      <td>...</td>\n      <td>...</td>\n      <td>...</td>\n      <td>...</td>\n      <td>...</td>\n    </tr>\n    <tr>\n      <th>1391952</th>\n      <td>Centro-Oeste</td>\n      <td>MT</td>\n      <td>Nova Monte Verde</td>\n      <td>51</td>\n      <td>510895.0</td>\n      <td>51001.0</td>\n      <td>ALTO TAPAJOS</td>\n      <td>2020-12-06</td>\n      <td>50</td>\n      <td>9178.0</td>\n      <td>137</td>\n      <td>0</td>\n      <td>1</td>\n      <td>0</td>\n      <td>NaN</td>\n      <td>NaN</td>\n      <td>0.0</td>\n    </tr>\n    <tr>\n      <th>1391953</th>\n      <td>Centro-Oeste</td>\n      <td>MT</td>\n      <td>Nova Monte Verde</td>\n      <td>51</td>\n      <td>510895.0</td>\n      <td>51001.0</td>\n      <td>ALTO TAPAJOS</td>\n      <td>2020-12-07</td>\n      <td>50</td>\n      <td>9178.0</td>\n      <td>139</td>\n      <td>2</td>\n      <td>1</td>\n      <td>0</td>\n      <td>NaN</td>\n      <td>NaN</td>\n      <td>0.0</td>\n    </tr>\n    <tr>\n      <th>1391954</th>\n      <td>Centro-Oeste</td>\n      <td>MT</td>\n      <td>Nova Monte Verde</td>\n      <td>51</td>\n      <td>510895.0</td>\n      <td>51001.0</td>\n      <td>ALTO TAPAJOS</td>\n      <td>2020-12-08</td>\n      <td>50</td>\n      <td>9178.0</td>\n      <td>142</td>\n      <td>3</td>\n      <td>1</td>\n      <td>0</td>\n      <td>NaN</td>\n      <td>NaN</td>\n      <td>0.0</td>\n    </tr>\n    <tr>\n      <th>1391955</th>\n      <td>Centro-Oeste</td>\n      <td>MT</td>\n      <td>Nova Monte Verde</td>\n      <td>51</td>\n      <td>510895.0</td>\n      <td>51001.0</td>\n      <td>ALTO TAPAJOS</td>\n      <td>2020-12-09</td>\n      <td>50</td>\n      <td>9178.0</td>\n      <td>143</td>\n      <td>1</td>\n      <td>1</td>\n      <td>0</td>\n      <td>NaN</td>\n      <td>NaN</td>\n      <td>0.0</td>\n    </tr>\n    <tr>\n      <th>1391956</th>\n      <td>Centro-Oeste</td>\n      <td>MT</td>\n      <td>Nova Monte Verde</td>\n      <td>51</td>\n      <td>510895.0</td>\n      <td>51001.0</td>\n      <td>ALTO TAPAJOS</td>\n      <td>2020-12-10</td>\n      <td>50</td>\n      <td>9178.0</td>\n      <td>144</td>\n      <td>1</td>\n      <td>1</td>\n      <td>0</td>\n      <td>NaN</td>\n      <td>NaN</td>\n      <td>0.0</td>\n    </tr>\n  </tbody>\n</table>\n<p>36519 rows × 17 columns</p>\n</div>"
     },
     "metadata": {},
     "execution_count": 1
    }
   ],
   "source": [
    "import datetime, time\n",
    "import pandas as pd\n",
    "from matplotlib import pyplot as plt\n",
    "from sklearn.linear_model import LinearRegression\n",
    "%matplotlib \n",
    "\n",
    "file_path = '../dataset/HIST_PAINEL_COVIDBR_10dez2020.csv'\n",
    "\n",
    "# https://stackoverflow.com/questions/42462906/pandas-read-csv-converters-performance-issue\n",
    "def convert_date(value):\n",
    "    return datetime.date.fromisoformat(value)\n",
    "\n",
    "estado = 'MT'\n",
    "df = pd.read_csv(file_path, sep=';', converters={'data': convert_date})\n",
    "df = df.query(f'estado == \"{estado}\"')\n",
    "df = df.dropna(subset=['municipio'])\n",
    "\n",
    "df"
   ]
  },
  {
   "cell_type": "code",
   "execution_count": 2,
   "metadata": {},
   "outputs": [
    {
     "output_type": "execute_result",
     "data": {
      "text/plain": [
       "<matplotlib.axes._subplots.AxesSubplot at 0x1ed4c0c6bb0>"
      ]
     },
     "metadata": {},
     "execution_count": 2
    }
   ],
   "source": [
    "data = datetime.date(2020, 12, 10)\n",
    "\n",
    "df_by_date = df[(df['data'] ==  data)].sort_values(by=['casosAcumulado'], ascending=False)\n",
    "df_by_date_top_10 = df_by_date.iloc[:9]\n",
    "\n",
    "df_by_date_top_10.plot.pie(autopct=lambda p: '{:.2f}% ({:.0f})'.format(p,(p/100)*df_by_date_top_10['casosAcumulado'].sum()) ,figsize=(12, 12), y='casosAcumulado', labels=df_by_date_top_10['municipio'], title=\"Top 10 cidades com maior número de casos da COVID-19 acumulados\")"
   ]
  },
  {
   "cell_type": "code",
   "execution_count": 3,
   "metadata": {},
   "outputs": [
    {
     "output_type": "execute_result",
     "data": {
      "text/plain": [
       "<matplotlib.axes._subplots.AxesSubplot at 0x1ed3b79e8b0>"
      ]
     },
     "metadata": {},
     "execution_count": 3
    }
   ],
   "source": [
    "df_by_date_top_50 = df_by_date.iloc[:49].sort_values(by=['casosAcumulado'])\n",
    "df_by_date_top_50.plot.barh(figsize=(16,16), x='municipio', y='casosAcumulado', label='Casos Acumulados', title='Top 50 cidades com o maior número de casos acumulados')"
   ]
  },
  {
   "cell_type": "code",
   "execution_count": 4,
   "metadata": {},
   "outputs": [
    {
     "output_type": "execute_result",
     "data": {
      "text/plain": [
       "<matplotlib.axes._subplots.AxesSubplot at 0x1ed45fe0e50>"
      ]
     },
     "metadata": {},
     "execution_count": 4
    }
   ],
   "source": [
    "municipio = 'Cuiabá'\n",
    "\n",
    "df_by_municipio = df.query(f'municipio == \"{municipio}\"')\n",
    "df_by_municipio.plot(figsize=(12,12), x='data', y='casosAcumulado', title=f'Histórico de casos confirmados em {municipio}')"
   ]
  },
  {
   "cell_type": "code",
   "execution_count": 5,
   "metadata": {},
   "outputs": [
    {
     "output_type": "execute_result",
     "data": {
      "text/plain": [
       "<pandas.io.formats.style.Styler at 0x1ed45fe0df0>"
      ],
      "text/html": "<style  type=\"text/css\" >\n    #T_0819f9f7_3be0_11eb_bce6_2c4d544af70erow0_col1 {\n            background-color:  #b40426;\n            color:  #f1f1f1;\n        }    #T_0819f9f7_3be0_11eb_bce6_2c4d544af70erow0_col2 {\n            background-color:  #b40426;\n            color:  #f1f1f1;\n        }    #T_0819f9f7_3be0_11eb_bce6_2c4d544af70erow1_col1 {\n            background-color:  #a6c4fe;\n            color:  #000000;\n        }    #T_0819f9f7_3be0_11eb_bce6_2c4d544af70erow1_col2 {\n            background-color:  #b6cefa;\n            color:  #000000;\n        }    #T_0819f9f7_3be0_11eb_bce6_2c4d544af70erow2_col1 {\n            background-color:  #a1c0ff;\n            color:  #000000;\n        }    #T_0819f9f7_3be0_11eb_bce6_2c4d544af70erow2_col2 {\n            background-color:  #d9dce1;\n            color:  #000000;\n        }    #T_0819f9f7_3be0_11eb_bce6_2c4d544af70erow3_col1 {\n            background-color:  #85a8fc;\n            color:  #000000;\n        }    #T_0819f9f7_3be0_11eb_bce6_2c4d544af70erow3_col2 {\n            background-color:  #6180e9;\n            color:  #000000;\n        }    #T_0819f9f7_3be0_11eb_bce6_2c4d544af70erow4_col1 {\n            background-color:  #7597f6;\n            color:  #000000;\n        }    #T_0819f9f7_3be0_11eb_bce6_2c4d544af70erow4_col2 {\n            background-color:  #5977e3;\n            color:  #000000;\n        }    #T_0819f9f7_3be0_11eb_bce6_2c4d544af70erow5_col1 {\n            background-color:  #6f92f3;\n            color:  #000000;\n        }    #T_0819f9f7_3be0_11eb_bce6_2c4d544af70erow5_col2 {\n            background-color:  #4b64d5;\n            color:  #f1f1f1;\n        }    #T_0819f9f7_3be0_11eb_bce6_2c4d544af70erow6_col1 {\n            background-color:  #6e90f2;\n            color:  #000000;\n        }    #T_0819f9f7_3be0_11eb_bce6_2c4d544af70erow6_col2 {\n            background-color:  #516ddb;\n            color:  #000000;\n        }    #T_0819f9f7_3be0_11eb_bce6_2c4d544af70erow7_col1 {\n            background-color:  #6485ec;\n            color:  #000000;\n        }    #T_0819f9f7_3be0_11eb_bce6_2c4d544af70erow7_col2 {\n            background-color:  #5572df;\n            color:  #000000;\n        }    #T_0819f9f7_3be0_11eb_bce6_2c4d544af70erow8_col1 {\n            background-color:  #5572df;\n            color:  #000000;\n        }    #T_0819f9f7_3be0_11eb_bce6_2c4d544af70erow8_col2 {\n            background-color:  #5e7de7;\n            color:  #000000;\n        }    #T_0819f9f7_3be0_11eb_bce6_2c4d544af70erow9_col1 {\n            background-color:  #5470de;\n            color:  #000000;\n        }    #T_0819f9f7_3be0_11eb_bce6_2c4d544af70erow9_col2 {\n            background-color:  #455cce;\n            color:  #f1f1f1;\n        }    #T_0819f9f7_3be0_11eb_bce6_2c4d544af70erow10_col1 {\n            background-color:  #4f69d9;\n            color:  #000000;\n        }    #T_0819f9f7_3be0_11eb_bce6_2c4d544af70erow10_col2 {\n            background-color:  #4257c9;\n            color:  #f1f1f1;\n        }    #T_0819f9f7_3be0_11eb_bce6_2c4d544af70erow11_col1 {\n            background-color:  #4e68d8;\n            color:  #000000;\n        }    #T_0819f9f7_3be0_11eb_bce6_2c4d544af70erow11_col2 {\n            background-color:  #5a78e4;\n            color:  #000000;\n        }    #T_0819f9f7_3be0_11eb_bce6_2c4d544af70erow12_col1 {\n            background-color:  #4c66d6;\n            color:  #000000;\n        }    #T_0819f9f7_3be0_11eb_bce6_2c4d544af70erow12_col2 {\n            background-color:  #4961d2;\n            color:  #f1f1f1;\n        }    #T_0819f9f7_3be0_11eb_bce6_2c4d544af70erow13_col1 {\n            background-color:  #465ecf;\n            color:  #f1f1f1;\n        }    #T_0819f9f7_3be0_11eb_bce6_2c4d544af70erow13_col2 {\n            background-color:  #3e51c5;\n            color:  #f1f1f1;\n        }    #T_0819f9f7_3be0_11eb_bce6_2c4d544af70erow14_col1 {\n            background-color:  #455cce;\n            color:  #f1f1f1;\n        }    #T_0819f9f7_3be0_11eb_bce6_2c4d544af70erow14_col2 {\n            background-color:  #455cce;\n            color:  #f1f1f1;\n        }    #T_0819f9f7_3be0_11eb_bce6_2c4d544af70erow15_col1 {\n            background-color:  #445acc;\n            color:  #f1f1f1;\n        }    #T_0819f9f7_3be0_11eb_bce6_2c4d544af70erow15_col2 {\n            background-color:  #4055c8;\n            color:  #f1f1f1;\n        }    #T_0819f9f7_3be0_11eb_bce6_2c4d544af70erow16_col1 {\n            background-color:  #445acc;\n            color:  #f1f1f1;\n        }    #T_0819f9f7_3be0_11eb_bce6_2c4d544af70erow16_col2 {\n            background-color:  #4358cb;\n            color:  #f1f1f1;\n        }    #T_0819f9f7_3be0_11eb_bce6_2c4d544af70erow17_col1 {\n            background-color:  #445acc;\n            color:  #f1f1f1;\n        }    #T_0819f9f7_3be0_11eb_bce6_2c4d544af70erow17_col2 {\n            background-color:  #4257c9;\n            color:  #f1f1f1;\n        }    #T_0819f9f7_3be0_11eb_bce6_2c4d544af70erow18_col1 {\n            background-color:  #4358cb;\n            color:  #f1f1f1;\n        }    #T_0819f9f7_3be0_11eb_bce6_2c4d544af70erow18_col2 {\n            background-color:  #4961d2;\n            color:  #f1f1f1;\n        }    #T_0819f9f7_3be0_11eb_bce6_2c4d544af70erow19_col1 {\n            background-color:  #4257c9;\n            color:  #f1f1f1;\n        }    #T_0819f9f7_3be0_11eb_bce6_2c4d544af70erow19_col2 {\n            background-color:  #455cce;\n            color:  #f1f1f1;\n        }    #T_0819f9f7_3be0_11eb_bce6_2c4d544af70erow20_col1 {\n            background-color:  #4055c8;\n            color:  #f1f1f1;\n        }    #T_0819f9f7_3be0_11eb_bce6_2c4d544af70erow20_col2 {\n            background-color:  #3f53c6;\n            color:  #f1f1f1;\n        }    #T_0819f9f7_3be0_11eb_bce6_2c4d544af70erow21_col1 {\n            background-color:  #4055c8;\n            color:  #f1f1f1;\n        }    #T_0819f9f7_3be0_11eb_bce6_2c4d544af70erow21_col2 {\n            background-color:  #4257c9;\n            color:  #f1f1f1;\n        }    #T_0819f9f7_3be0_11eb_bce6_2c4d544af70erow22_col1 {\n            background-color:  #3f53c6;\n            color:  #f1f1f1;\n        }    #T_0819f9f7_3be0_11eb_bce6_2c4d544af70erow22_col2 {\n            background-color:  #445acc;\n            color:  #f1f1f1;\n        }    #T_0819f9f7_3be0_11eb_bce6_2c4d544af70erow23_col1 {\n            background-color:  #3f53c6;\n            color:  #f1f1f1;\n        }    #T_0819f9f7_3be0_11eb_bce6_2c4d544af70erow23_col2 {\n            background-color:  #3e51c5;\n            color:  #f1f1f1;\n        }    #T_0819f9f7_3be0_11eb_bce6_2c4d544af70erow24_col1 {\n            background-color:  #3f53c6;\n            color:  #f1f1f1;\n        }    #T_0819f9f7_3be0_11eb_bce6_2c4d544af70erow24_col2 {\n            background-color:  #3f53c6;\n            color:  #f1f1f1;\n        }    #T_0819f9f7_3be0_11eb_bce6_2c4d544af70erow25_col1 {\n            background-color:  #3f53c6;\n            color:  #f1f1f1;\n        }    #T_0819f9f7_3be0_11eb_bce6_2c4d544af70erow25_col2 {\n            background-color:  #3f53c6;\n            color:  #f1f1f1;\n        }    #T_0819f9f7_3be0_11eb_bce6_2c4d544af70erow26_col1 {\n            background-color:  #3e51c5;\n            color:  #f1f1f1;\n        }    #T_0819f9f7_3be0_11eb_bce6_2c4d544af70erow26_col2 {\n            background-color:  #3f53c6;\n            color:  #f1f1f1;\n        }    #T_0819f9f7_3be0_11eb_bce6_2c4d544af70erow27_col1 {\n            background-color:  #3e51c5;\n            color:  #f1f1f1;\n        }    #T_0819f9f7_3be0_11eb_bce6_2c4d544af70erow27_col2 {\n            background-color:  #4055c8;\n            color:  #f1f1f1;\n        }    #T_0819f9f7_3be0_11eb_bce6_2c4d544af70erow28_col1 {\n            background-color:  #3e51c5;\n            color:  #f1f1f1;\n        }    #T_0819f9f7_3be0_11eb_bce6_2c4d544af70erow28_col2 {\n            background-color:  #4257c9;\n            color:  #f1f1f1;\n        }    #T_0819f9f7_3be0_11eb_bce6_2c4d544af70erow29_col1 {\n            background-color:  #3d50c3;\n            color:  #f1f1f1;\n        }    #T_0819f9f7_3be0_11eb_bce6_2c4d544af70erow29_col2 {\n            background-color:  #3d50c3;\n            color:  #f1f1f1;\n        }    #T_0819f9f7_3be0_11eb_bce6_2c4d544af70erow30_col1 {\n            background-color:  #3d50c3;\n            color:  #f1f1f1;\n        }    #T_0819f9f7_3be0_11eb_bce6_2c4d544af70erow30_col2 {\n            background-color:  #3c4ec2;\n            color:  #f1f1f1;\n        }    #T_0819f9f7_3be0_11eb_bce6_2c4d544af70erow31_col1 {\n            background-color:  #3d50c3;\n            color:  #f1f1f1;\n        }    #T_0819f9f7_3be0_11eb_bce6_2c4d544af70erow31_col2 {\n            background-color:  #4257c9;\n            color:  #f1f1f1;\n        }    #T_0819f9f7_3be0_11eb_bce6_2c4d544af70erow32_col1 {\n            background-color:  #3d50c3;\n            color:  #f1f1f1;\n        }    #T_0819f9f7_3be0_11eb_bce6_2c4d544af70erow32_col2 {\n            background-color:  #3e51c5;\n            color:  #f1f1f1;\n        }    #T_0819f9f7_3be0_11eb_bce6_2c4d544af70erow33_col1 {\n            background-color:  #3d50c3;\n            color:  #f1f1f1;\n        }    #T_0819f9f7_3be0_11eb_bce6_2c4d544af70erow33_col2 {\n            background-color:  #3e51c5;\n            color:  #f1f1f1;\n        }    #T_0819f9f7_3be0_11eb_bce6_2c4d544af70erow34_col1 {\n            background-color:  #3d50c3;\n            color:  #f1f1f1;\n        }    #T_0819f9f7_3be0_11eb_bce6_2c4d544af70erow34_col2 {\n            background-color:  #3c4ec2;\n            color:  #f1f1f1;\n        }    #T_0819f9f7_3be0_11eb_bce6_2c4d544af70erow35_col1 {\n            background-color:  #3c4ec2;\n            color:  #f1f1f1;\n        }    #T_0819f9f7_3be0_11eb_bce6_2c4d544af70erow35_col2 {\n            background-color:  #3e51c5;\n            color:  #f1f1f1;\n        }    #T_0819f9f7_3be0_11eb_bce6_2c4d544af70erow36_col1 {\n            background-color:  #3c4ec2;\n            color:  #f1f1f1;\n        }    #T_0819f9f7_3be0_11eb_bce6_2c4d544af70erow36_col2 {\n            background-color:  #3e51c5;\n            color:  #f1f1f1;\n        }    #T_0819f9f7_3be0_11eb_bce6_2c4d544af70erow37_col1 {\n            background-color:  #3c4ec2;\n            color:  #f1f1f1;\n        }    #T_0819f9f7_3be0_11eb_bce6_2c4d544af70erow37_col2 {\n            background-color:  #3c4ec2;\n            color:  #f1f1f1;\n        }    #T_0819f9f7_3be0_11eb_bce6_2c4d544af70erow38_col1 {\n            background-color:  #3c4ec2;\n            color:  #f1f1f1;\n        }    #T_0819f9f7_3be0_11eb_bce6_2c4d544af70erow38_col2 {\n            background-color:  #3b4cc0;\n            color:  #f1f1f1;\n        }    #T_0819f9f7_3be0_11eb_bce6_2c4d544af70erow39_col1 {\n            background-color:  #3b4cc0;\n            color:  #f1f1f1;\n        }    #T_0819f9f7_3be0_11eb_bce6_2c4d544af70erow39_col2 {\n            background-color:  #3e51c5;\n            color:  #f1f1f1;\n        }    #T_0819f9f7_3be0_11eb_bce6_2c4d544af70erow40_col1 {\n            background-color:  #3b4cc0;\n            color:  #f1f1f1;\n        }    #T_0819f9f7_3be0_11eb_bce6_2c4d544af70erow40_col2 {\n            background-color:  #3b4cc0;\n            color:  #f1f1f1;\n        }    #T_0819f9f7_3be0_11eb_bce6_2c4d544af70erow41_col1 {\n            background-color:  #3b4cc0;\n            color:  #f1f1f1;\n        }    #T_0819f9f7_3be0_11eb_bce6_2c4d544af70erow41_col2 {\n            background-color:  #4257c9;\n            color:  #f1f1f1;\n        }    #T_0819f9f7_3be0_11eb_bce6_2c4d544af70erow42_col1 {\n            background-color:  #3b4cc0;\n            color:  #f1f1f1;\n        }    #T_0819f9f7_3be0_11eb_bce6_2c4d544af70erow42_col2 {\n            background-color:  #3e51c5;\n            color:  #f1f1f1;\n        }    #T_0819f9f7_3be0_11eb_bce6_2c4d544af70erow43_col1 {\n            background-color:  #3b4cc0;\n            color:  #f1f1f1;\n        }    #T_0819f9f7_3be0_11eb_bce6_2c4d544af70erow43_col2 {\n            background-color:  #3b4cc0;\n            color:  #f1f1f1;\n        }    #T_0819f9f7_3be0_11eb_bce6_2c4d544af70erow44_col1 {\n            background-color:  #3b4cc0;\n            color:  #f1f1f1;\n        }    #T_0819f9f7_3be0_11eb_bce6_2c4d544af70erow44_col2 {\n            background-color:  #3b4cc0;\n            color:  #f1f1f1;\n        }    #T_0819f9f7_3be0_11eb_bce6_2c4d544af70erow45_col1 {\n            background-color:  #3b4cc0;\n            color:  #f1f1f1;\n        }    #T_0819f9f7_3be0_11eb_bce6_2c4d544af70erow45_col2 {\n            background-color:  #3c4ec2;\n            color:  #f1f1f1;\n        }    #T_0819f9f7_3be0_11eb_bce6_2c4d544af70erow46_col1 {\n            background-color:  #3b4cc0;\n            color:  #f1f1f1;\n        }    #T_0819f9f7_3be0_11eb_bce6_2c4d544af70erow46_col2 {\n            background-color:  #3b4cc0;\n            color:  #f1f1f1;\n        }    #T_0819f9f7_3be0_11eb_bce6_2c4d544af70erow47_col1 {\n            background-color:  #3b4cc0;\n            color:  #f1f1f1;\n        }    #T_0819f9f7_3be0_11eb_bce6_2c4d544af70erow47_col2 {\n            background-color:  #3e51c5;\n            color:  #f1f1f1;\n        }    #T_0819f9f7_3be0_11eb_bce6_2c4d544af70erow48_col1 {\n            background-color:  #3b4cc0;\n            color:  #f1f1f1;\n        }    #T_0819f9f7_3be0_11eb_bce6_2c4d544af70erow48_col2 {\n            background-color:  #3b4cc0;\n            color:  #f1f1f1;\n        }</style><table id=\"T_0819f9f7_3be0_11eb_bce6_2c4d544af70e\" ><thead>    <tr>        <th class=\"blank level0\" ></th>        <th class=\"col_heading level0 col0\" >municipio</th>        <th class=\"col_heading level0 col1\" >casosAcumulado</th>        <th class=\"col_heading level0 col2\" >obitosAcumulado</th>    </tr></thead><tbody>\n                <tr>\n                        <th id=\"T_0819f9f7_3be0_11eb_bce6_2c4d544af70elevel0_row0\" class=\"row_heading level0 row0\" >1365279</th>\n                        <td id=\"T_0819f9f7_3be0_11eb_bce6_2c4d544af70erow0_col0\" class=\"data row0 col0\" >Cuiabá</td>\n                        <td id=\"T_0819f9f7_3be0_11eb_bce6_2c4d544af70erow0_col1\" class=\"data row0 col1\" >37029</td>\n                        <td id=\"T_0819f9f7_3be0_11eb_bce6_2c4d544af70erow0_col2\" class=\"data row0 col2\" >1102</td>\n            </tr>\n            <tr>\n                        <th id=\"T_0819f9f7_3be0_11eb_bce6_2c4d544af70elevel0_row1\" class=\"row_heading level0 row1\" >1384963</th>\n                        <td id=\"T_0819f9f7_3be0_11eb_bce6_2c4d544af70erow1_col0\" class=\"data row1 col0\" >Rondonópolis</td>\n                        <td id=\"T_0819f9f7_3be0_11eb_bce6_2c4d544af70erow1_col1\" class=\"data row1 col1\" >12214</td>\n                        <td id=\"T_0819f9f7_3be0_11eb_bce6_2c4d544af70erow1_col2\" class=\"data row1 col2\" >407</td>\n            </tr>\n            <tr>\n                        <th id=\"T_0819f9f7_3be0_11eb_bce6_2c4d544af70elevel0_row2\" class=\"row_heading level0 row2\" >1390402</th>\n                        <td id=\"T_0819f9f7_3be0_11eb_bce6_2c4d544af70erow2_col0\" class=\"data row2 col0\" >Várzea Grande</td>\n                        <td id=\"T_0819f9f7_3be0_11eb_bce6_2c4d544af70erow2_col1\" class=\"data row2 col1\" >11720</td>\n                        <td id=\"T_0819f9f7_3be0_11eb_bce6_2c4d544af70erow2_col2\" class=\"data row2 col2\" >538</td>\n            </tr>\n            <tr>\n                        <th id=\"T_0819f9f7_3be0_11eb_bce6_2c4d544af70elevel0_row3\" class=\"row_heading level0 row3\" >1387812</th>\n                        <td id=\"T_0819f9f7_3be0_11eb_bce6_2c4d544af70erow3_col0\" class=\"data row3 col0\" >Sinop</td>\n                        <td id=\"T_0819f9f7_3be0_11eb_bce6_2c4d544af70erow3_col1\" class=\"data row3 col1\" >8806</td>\n                        <td id=\"T_0819f9f7_3be0_11eb_bce6_2c4d544af70erow3_col2\" class=\"data row3 col2\" >139</td>\n            </tr>\n            <tr>\n                        <th id=\"T_0819f9f7_3be0_11eb_bce6_2c4d544af70elevel0_row4\" class=\"row_heading level0 row4\" >1388071</th>\n                        <td id=\"T_0819f9f7_3be0_11eb_bce6_2c4d544af70erow4_col0\" class=\"data row4 col0\" >Sorriso</td>\n                        <td id=\"T_0819f9f7_3be0_11eb_bce6_2c4d544af70erow4_col1\" class=\"data row4 col1\" >7197</td>\n                        <td id=\"T_0819f9f7_3be0_11eb_bce6_2c4d544af70erow4_col2\" class=\"data row4 col2\" >112</td>\n            </tr>\n            <tr>\n                        <th id=\"T_0819f9f7_3be0_11eb_bce6_2c4d544af70elevel0_row5\" class=\"row_heading level0 row5\" >1371754</th>\n                        <td id=\"T_0819f9f7_3be0_11eb_bce6_2c4d544af70erow5_col0\" class=\"data row5 col0\" >Lucas do Rio Verde</td>\n                        <td id=\"T_0819f9f7_3be0_11eb_bce6_2c4d544af70erow5_col1\" class=\"data row5 col1\" >6612</td>\n                        <td id=\"T_0819f9f7_3be0_11eb_bce6_2c4d544af70erow5_col2\" class=\"data row5 col2\" >64</td>\n            </tr>\n            <tr>\n                        <th id=\"T_0819f9f7_3be0_11eb_bce6_2c4d544af70elevel0_row6\" class=\"row_heading level0 row6\" >1388589</th>\n                        <td id=\"T_0819f9f7_3be0_11eb_bce6_2c4d544af70erow6_col0\" class=\"data row6 col0\" >Tangará da Serra</td>\n                        <td id=\"T_0819f9f7_3be0_11eb_bce6_2c4d544af70erow6_col1\" class=\"data row6 col1\" >6452</td>\n                        <td id=\"T_0819f9f7_3be0_11eb_bce6_2c4d544af70erow6_col2\" class=\"data row6 col2\" >87</td>\n            </tr>\n            <tr>\n                        <th id=\"T_0819f9f7_3be0_11eb_bce6_2c4d544af70elevel0_row7\" class=\"row_heading level0 row7\" >1381337</th>\n                        <td id=\"T_0819f9f7_3be0_11eb_bce6_2c4d544af70erow7_col0\" class=\"data row7 col0\" >Primavera do Leste</td>\n                        <td id=\"T_0819f9f7_3be0_11eb_bce6_2c4d544af70erow7_col1\" class=\"data row7 col1\" >5404</td>\n                        <td id=\"T_0819f9f7_3be0_11eb_bce6_2c4d544af70erow7_col2\" class=\"data row7 col2\" >100</td>\n            </tr>\n            <tr>\n                        <th id=\"T_0819f9f7_3be0_11eb_bce6_2c4d544af70elevel0_row8\" class=\"row_heading level0 row8\" >1360617</th>\n                        <td id=\"T_0819f9f7_3be0_11eb_bce6_2c4d544af70erow8_col0\" class=\"data row8 col0\" >Cáceres</td>\n                        <td id=\"T_0819f9f7_3be0_11eb_bce6_2c4d544af70erow8_col1\" class=\"data row8 col1\" >3659</td>\n                        <td id=\"T_0819f9f7_3be0_11eb_bce6_2c4d544af70erow8_col2\" class=\"data row8 col2\" >128</td>\n            </tr>\n            <tr>\n                        <th id=\"T_0819f9f7_3be0_11eb_bce6_2c4d544af70elevel0_row9\" class=\"row_heading level0 row9\" >1375639</th>\n                        <td id=\"T_0819f9f7_3be0_11eb_bce6_2c4d544af70erow9_col0\" class=\"data row9 col0\" >Nova Mutum</td>\n                        <td id=\"T_0819f9f7_3be0_11eb_bce6_2c4d544af70erow9_col1\" class=\"data row9 col1\" >3522</td>\n                        <td id=\"T_0819f9f7_3be0_11eb_bce6_2c4d544af70erow9_col2\" class=\"data row9 col2\" >42</td>\n            </tr>\n            <tr>\n                        <th id=\"T_0819f9f7_3be0_11eb_bce6_2c4d544af70elevel0_row10\" class=\"row_heading level0 row10\" >1361135</th>\n                        <td id=\"T_0819f9f7_3be0_11eb_bce6_2c4d544af70erow10_col0\" class=\"data row10 col0\" >Campo Novo do Parecis</td>\n                        <td id=\"T_0819f9f7_3be0_11eb_bce6_2c4d544af70erow10_col1\" class=\"data row10 col1\" >3042</td>\n                        <td id=\"T_0819f9f7_3be0_11eb_bce6_2c4d544af70erow10_col2\" class=\"data row10 col2\" >30</td>\n            </tr>\n            <tr>\n                        <th id=\"T_0819f9f7_3be0_11eb_bce6_2c4d544af70elevel0_row11\" class=\"row_heading level0 row11\" >1359840</th>\n                        <td id=\"T_0819f9f7_3be0_11eb_bce6_2c4d544af70erow11_col0\" class=\"data row11 col0\" >Barra do Garças</td>\n                        <td id=\"T_0819f9f7_3be0_11eb_bce6_2c4d544af70erow11_col1\" class=\"data row11 col1\" >2850</td>\n                        <td id=\"T_0819f9f7_3be0_11eb_bce6_2c4d544af70erow11_col2\" class=\"data row11 col2\" >117</td>\n            </tr>\n            <tr>\n                        <th id=\"T_0819f9f7_3be0_11eb_bce6_2c4d544af70elevel0_row12\" class=\"row_heading level0 row12\" >1361394</th>\n                        <td id=\"T_0819f9f7_3be0_11eb_bce6_2c4d544af70erow12_col0\" class=\"data row12 col0\" >Campo Verde</td>\n                        <td id=\"T_0819f9f7_3be0_11eb_bce6_2c4d544af70erow12_col1\" class=\"data row12 col1\" >2716</td>\n                        <td id=\"T_0819f9f7_3be0_11eb_bce6_2c4d544af70erow12_col2\" class=\"data row12 col2\" >55</td>\n            </tr>\n            <tr>\n                        <th id=\"T_0819f9f7_3be0_11eb_bce6_2c4d544af70elevel0_row13\" class=\"row_heading level0 row13\" >1387294</th>\n                        <td id=\"T_0819f9f7_3be0_11eb_bce6_2c4d544af70erow13_col0\" class=\"data row13 col0\" >Sapezal</td>\n                        <td id=\"T_0819f9f7_3be0_11eb_bce6_2c4d544af70erow13_col1\" class=\"data row13 col1\" >1946</td>\n                        <td id=\"T_0819f9f7_3be0_11eb_bce6_2c4d544af70erow13_col2\" class=\"data row13 col2\" >20</td>\n            </tr>\n            <tr>\n                        <th id=\"T_0819f9f7_3be0_11eb_bce6_2c4d544af70elevel0_row14\" class=\"row_heading level0 row14\" >1369682</th>\n                        <td id=\"T_0819f9f7_3be0_11eb_bce6_2c4d544af70erow14_col0\" class=\"data row14 col0\" >Jaciara</td>\n                        <td id=\"T_0819f9f7_3be0_11eb_bce6_2c4d544af70erow14_col1\" class=\"data row14 col1\" >1842</td>\n                        <td id=\"T_0819f9f7_3be0_11eb_bce6_2c4d544af70erow14_col2\" class=\"data row14 col2\" >43</td>\n            </tr>\n            <tr>\n                        <th id=\"T_0819f9f7_3be0_11eb_bce6_2c4d544af70elevel0_row15\" class=\"row_heading level0 row15\" >1356214</th>\n                        <td id=\"T_0819f9f7_3be0_11eb_bce6_2c4d544af70erow15_col0\" class=\"data row15 col0\" >Alta Floresta</td>\n                        <td id=\"T_0819f9f7_3be0_11eb_bce6_2c4d544af70erow15_col1\" class=\"data row15 col1\" >1697</td>\n                        <td id=\"T_0819f9f7_3be0_11eb_bce6_2c4d544af70erow15_col2\" class=\"data row15 col2\" >26</td>\n            </tr>\n            <tr>\n                        <th id=\"T_0819f9f7_3be0_11eb_bce6_2c4d544af70elevel0_row16\" class=\"row_heading level0 row16\" >1363725</th>\n                        <td id=\"T_0819f9f7_3be0_11eb_bce6_2c4d544af70erow16_col0\" class=\"data row16 col0\" >Colíder</td>\n                        <td id=\"T_0819f9f7_3be0_11eb_bce6_2c4d544af70erow16_col1\" class=\"data row16 col1\" >1690</td>\n                        <td id=\"T_0819f9f7_3be0_11eb_bce6_2c4d544af70erow16_col2\" class=\"data row16 col2\" >36</td>\n            </tr>\n            <tr>\n                        <th id=\"T_0819f9f7_3be0_11eb_bce6_2c4d544af70elevel0_row17\" class=\"row_heading level0 row17\" >1377711</th>\n                        <td id=\"T_0819f9f7_3be0_11eb_bce6_2c4d544af70erow17_col0\" class=\"data row17 col0\" >Paranatinga</td>\n                        <td id=\"T_0819f9f7_3be0_11eb_bce6_2c4d544af70erow17_col1\" class=\"data row17 col1\" >1689</td>\n                        <td id=\"T_0819f9f7_3be0_11eb_bce6_2c4d544af70erow17_col2\" class=\"data row17 col2\" >32</td>\n            </tr>\n            <tr>\n                        <th id=\"T_0819f9f7_3be0_11eb_bce6_2c4d544af70elevel0_row18\" class=\"row_heading level0 row18\" >1379783</th>\n                        <td id=\"T_0819f9f7_3be0_11eb_bce6_2c4d544af70erow18_col0\" class=\"data row18 col0\" >Pontes e Lacerda</td>\n                        <td id=\"T_0819f9f7_3be0_11eb_bce6_2c4d544af70erow18_col1\" class=\"data row18 col1\" >1531</td>\n                        <td id=\"T_0819f9f7_3be0_11eb_bce6_2c4d544af70erow18_col2\" class=\"data row18 col2\" >56</td>\n            </tr>\n            <tr>\n                        <th id=\"T_0819f9f7_3be0_11eb_bce6_2c4d544af70elevel0_row19\" class=\"row_heading level0 row19\" >1378488</th>\n                        <td id=\"T_0819f9f7_3be0_11eb_bce6_2c4d544af70erow19_col0\" class=\"data row19 col0\" >Peixoto de Azevedo</td>\n                        <td id=\"T_0819f9f7_3be0_11eb_bce6_2c4d544af70erow19_col1\" class=\"data row19 col1\" >1482</td>\n                        <td id=\"T_0819f9f7_3be0_11eb_bce6_2c4d544af70erow19_col2\" class=\"data row19 col2\" >42</td>\n            </tr>\n            <tr>\n                        <th id=\"T_0819f9f7_3be0_11eb_bce6_2c4d544af70elevel0_row20\" class=\"row_heading level0 row20\" >1372272</th>\n                        <td id=\"T_0819f9f7_3be0_11eb_bce6_2c4d544af70erow20_col0\" class=\"data row20 col0\" >Vila Bela da Santíssima Trindade</td>\n                        <td id=\"T_0819f9f7_3be0_11eb_bce6_2c4d544af70erow20_col1\" class=\"data row20 col1\" >1336</td>\n                        <td id=\"T_0819f9f7_3be0_11eb_bce6_2c4d544af70erow20_col2\" class=\"data row20 col2\" >23</td>\n            </tr>\n            <tr>\n                        <th id=\"T_0819f9f7_3be0_11eb_bce6_2c4d544af70elevel0_row21\" class=\"row_heading level0 row21\" >1373049</th>\n                        <td id=\"T_0819f9f7_3be0_11eb_bce6_2c4d544af70erow21_col0\" class=\"data row21 col0\" >Mirassol d'Oeste</td>\n                        <td id=\"T_0819f9f7_3be0_11eb_bce6_2c4d544af70erow21_col1\" class=\"data row21 col1\" >1242</td>\n                        <td id=\"T_0819f9f7_3be0_11eb_bce6_2c4d544af70erow21_col2\" class=\"data row21 col2\" >32</td>\n            </tr>\n            <tr>\n                        <th id=\"T_0819f9f7_3be0_11eb_bce6_2c4d544af70elevel0_row22\" class=\"row_heading level0 row22\" >1370718</th>\n                        <td id=\"T_0819f9f7_3be0_11eb_bce6_2c4d544af70erow22_col0\" class=\"data row22 col0\" >Juína</td>\n                        <td id=\"T_0819f9f7_3be0_11eb_bce6_2c4d544af70erow22_col1\" class=\"data row22 col1\" >1168</td>\n                        <td id=\"T_0819f9f7_3be0_11eb_bce6_2c4d544af70erow22_col2\" class=\"data row22 col2\" >41</td>\n            </tr>\n            <tr>\n                        <th id=\"T_0819f9f7_3be0_11eb_bce6_2c4d544af70elevel0_row23\" class=\"row_heading level0 row23\" >1381596</th>\n                        <td id=\"T_0819f9f7_3be0_11eb_bce6_2c4d544af70erow23_col0\" class=\"data row23 col0\" >Querência</td>\n                        <td id=\"T_0819f9f7_3be0_11eb_bce6_2c4d544af70erow23_col1\" class=\"data row23 col1\" >1148</td>\n                        <td id=\"T_0819f9f7_3be0_11eb_bce6_2c4d544af70erow23_col2\" class=\"data row23 col2\" >20</td>\n            </tr>\n            <tr>\n                        <th id=\"T_0819f9f7_3be0_11eb_bce6_2c4d544af70elevel0_row24\" class=\"row_heading level0 row24\" >1367869</th>\n                        <td id=\"T_0819f9f7_3be0_11eb_bce6_2c4d544af70erow24_col0\" class=\"data row24 col0\" >Guarantã do Norte</td>\n                        <td id=\"T_0819f9f7_3be0_11eb_bce6_2c4d544af70erow24_col1\" class=\"data row24 col1\" >1127</td>\n                        <td id=\"T_0819f9f7_3be0_11eb_bce6_2c4d544af70erow24_col2\" class=\"data row24 col2\" >22</td>\n            </tr>\n            <tr>\n                        <th id=\"T_0819f9f7_3be0_11eb_bce6_2c4d544af70elevel0_row25\" class=\"row_heading level0 row25\" >1359581</th>\n                        <td id=\"T_0819f9f7_3be0_11eb_bce6_2c4d544af70erow25_col0\" class=\"data row25 col0\" >Barra do Bugres</td>\n                        <td id=\"T_0819f9f7_3be0_11eb_bce6_2c4d544af70erow25_col1\" class=\"data row25 col1\" >1113</td>\n                        <td id=\"T_0819f9f7_3be0_11eb_bce6_2c4d544af70erow25_col2\" class=\"data row25 col2\" >23</td>\n            </tr>\n            <tr>\n                        <th id=\"T_0819f9f7_3be0_11eb_bce6_2c4d544af70elevel0_row26\" class=\"row_heading level0 row26\" >1364502</th>\n                        <td id=\"T_0819f9f7_3be0_11eb_bce6_2c4d544af70erow26_col0\" class=\"data row26 col0\" >Confresa</td>\n                        <td id=\"T_0819f9f7_3be0_11eb_bce6_2c4d544af70erow26_col1\" class=\"data row26 col1\" >1048</td>\n                        <td id=\"T_0819f9f7_3be0_11eb_bce6_2c4d544af70erow26_col2\" class=\"data row26 col2\" >24</td>\n            </tr>\n            <tr>\n                        <th id=\"T_0819f9f7_3be0_11eb_bce6_2c4d544af70elevel0_row27\" class=\"row_heading level0 row27\" >1381855</th>\n                        <td id=\"T_0819f9f7_3be0_11eb_bce6_2c4d544af70erow27_col0\" class=\"data row27 col0\" >São José dos Quatro Marcos</td>\n                        <td id=\"T_0819f9f7_3be0_11eb_bce6_2c4d544af70erow27_col1\" class=\"data row27 col1\" >1006</td>\n                        <td id=\"T_0819f9f7_3be0_11eb_bce6_2c4d544af70erow27_col2\" class=\"data row27 col2\" >27</td>\n            </tr>\n            <tr>\n                        <th id=\"T_0819f9f7_3be0_11eb_bce6_2c4d544af70elevel0_row28\" class=\"row_heading level0 row28\" >1378229</th>\n                        <td id=\"T_0819f9f7_3be0_11eb_bce6_2c4d544af70erow28_col0\" class=\"data row28 col0\" >Pedra Preta</td>\n                        <td id=\"T_0819f9f7_3be0_11eb_bce6_2c4d544af70erow28_col1\" class=\"data row28 col1\" >991</td>\n                        <td id=\"T_0819f9f7_3be0_11eb_bce6_2c4d544af70erow28_col2\" class=\"data row28 col2\" >31</td>\n            </tr>\n            <tr>\n                        <th id=\"T_0819f9f7_3be0_11eb_bce6_2c4d544af70elevel0_row29\" class=\"row_heading level0 row29\" >1359063</th>\n                        <td id=\"T_0819f9f7_3be0_11eb_bce6_2c4d544af70erow29_col0\" class=\"data row29 col0\" >Aripuanã</td>\n                        <td id=\"T_0819f9f7_3be0_11eb_bce6_2c4d544af70erow29_col1\" class=\"data row29 col1\" >880</td>\n                        <td id=\"T_0819f9f7_3be0_11eb_bce6_2c4d544af70erow29_col2\" class=\"data row29 col2\" >15</td>\n            </tr>\n            <tr>\n                        <th id=\"T_0819f9f7_3be0_11eb_bce6_2c4d544af70elevel0_row30\" class=\"row_heading level0 row30\" >1388848</th>\n                        <td id=\"T_0819f9f7_3be0_11eb_bce6_2c4d544af70erow30_col0\" class=\"data row30 col0\" >Tapurah</td>\n                        <td id=\"T_0819f9f7_3be0_11eb_bce6_2c4d544af70erow30_col1\" class=\"data row30 col1\" >871</td>\n                        <td id=\"T_0819f9f7_3be0_11eb_bce6_2c4d544af70erow30_col2\" class=\"data row30 col2\" >10</td>\n            </tr>\n            <tr>\n                        <th id=\"T_0819f9f7_3be0_11eb_bce6_2c4d544af70elevel0_row31\" class=\"row_heading level0 row31\" >1379006</th>\n                        <td id=\"T_0819f9f7_3be0_11eb_bce6_2c4d544af70erow31_col0\" class=\"data row31 col0\" >Poconé</td>\n                        <td id=\"T_0819f9f7_3be0_11eb_bce6_2c4d544af70erow31_col1\" class=\"data row31 col1\" >868</td>\n                        <td id=\"T_0819f9f7_3be0_11eb_bce6_2c4d544af70erow31_col2\" class=\"data row31 col2\" >31</td>\n            </tr>\n            <tr>\n                        <th id=\"T_0819f9f7_3be0_11eb_bce6_2c4d544af70elevel0_row32\" class=\"row_heading level0 row32\" >1355955</th>\n                        <td id=\"T_0819f9f7_3be0_11eb_bce6_2c4d544af70erow32_col0\" class=\"data row32 col0\" >Água Boa</td>\n                        <td id=\"T_0819f9f7_3be0_11eb_bce6_2c4d544af70erow32_col1\" class=\"data row32 col1\" >863</td>\n                        <td id=\"T_0819f9f7_3be0_11eb_bce6_2c4d544af70erow32_col2\" class=\"data row32 col2\" >20</td>\n            </tr>\n            <tr>\n                        <th id=\"T_0819f9f7_3be0_11eb_bce6_2c4d544af70elevel0_row33\" class=\"row_heading level0 row33\" >1362171</th>\n                        <td id=\"T_0819f9f7_3be0_11eb_bce6_2c4d544af70erow33_col0\" class=\"data row33 col0\" >Canarana</td>\n                        <td id=\"T_0819f9f7_3be0_11eb_bce6_2c4d544af70erow33_col1\" class=\"data row33 col1\" >862</td>\n                        <td id=\"T_0819f9f7_3be0_11eb_bce6_2c4d544af70erow33_col2\" class=\"data row33 col2\" >17</td>\n            </tr>\n            <tr>\n                        <th id=\"T_0819f9f7_3be0_11eb_bce6_2c4d544af70elevel0_row34\" class=\"row_heading level0 row34\" >1372790</th>\n                        <td id=\"T_0819f9f7_3be0_11eb_bce6_2c4d544af70erow34_col0\" class=\"data row34 col0\" >Matupá</td>\n                        <td id=\"T_0819f9f7_3be0_11eb_bce6_2c4d544af70erow34_col1\" class=\"data row34 col1\" >803</td>\n                        <td id=\"T_0819f9f7_3be0_11eb_bce6_2c4d544af70erow34_col2\" class=\"data row34 col2\" >9</td>\n            </tr>\n            <tr>\n                        <th id=\"T_0819f9f7_3be0_11eb_bce6_2c4d544af70elevel0_row35\" class=\"row_heading level0 row35\" >1376416</th>\n                        <td id=\"T_0819f9f7_3be0_11eb_bce6_2c4d544af70erow35_col0\" class=\"data row35 col0\" >Nova Xavantina</td>\n                        <td id=\"T_0819f9f7_3be0_11eb_bce6_2c4d544af70erow35_col1\" class=\"data row35 col1\" >715</td>\n                        <td id=\"T_0819f9f7_3be0_11eb_bce6_2c4d544af70erow35_col2\" class=\"data row35 col2\" >18</td>\n            </tr>\n            <tr>\n                        <th id=\"T_0819f9f7_3be0_11eb_bce6_2c4d544af70elevel0_row36\" class=\"row_heading level0 row36\" >1366056</th>\n                        <td id=\"T_0819f9f7_3be0_11eb_bce6_2c4d544af70erow36_col0\" class=\"data row36 col0\" >Diamantino</td>\n                        <td id=\"T_0819f9f7_3be0_11eb_bce6_2c4d544af70erow36_col1\" class=\"data row36 col1\" >714</td>\n                        <td id=\"T_0819f9f7_3be0_11eb_bce6_2c4d544af70erow36_col2\" class=\"data row36 col2\" >17</td>\n            </tr>\n            <tr>\n                        <th id=\"T_0819f9f7_3be0_11eb_bce6_2c4d544af70elevel0_row37\" class=\"row_heading level0 row37\" >1370459</th>\n                        <td id=\"T_0819f9f7_3be0_11eb_bce6_2c4d544af70erow37_col0\" class=\"data row37 col0\" >Juara</td>\n                        <td id=\"T_0819f9f7_3be0_11eb_bce6_2c4d544af70erow37_col1\" class=\"data row37 col1\" >674</td>\n                        <td id=\"T_0819f9f7_3be0_11eb_bce6_2c4d544af70erow37_col2\" class=\"data row37 col2\" >11</td>\n            </tr>\n            <tr>\n                        <th id=\"T_0819f9f7_3be0_11eb_bce6_2c4d544af70elevel0_row38\" class=\"row_heading level0 row38\" >1383927</th>\n                        <td id=\"T_0819f9f7_3be0_11eb_bce6_2c4d544af70erow38_col0\" class=\"data row38 col0\" >São José do Rio Claro</td>\n                        <td id=\"T_0819f9f7_3be0_11eb_bce6_2c4d544af70erow38_col1\" class=\"data row38 col1\" >652</td>\n                        <td id=\"T_0819f9f7_3be0_11eb_bce6_2c4d544af70erow38_col2\" class=\"data row38 col2\" >5</td>\n            </tr>\n            <tr>\n                        <th id=\"T_0819f9f7_3be0_11eb_bce6_2c4d544af70elevel0_row39\" class=\"row_heading level0 row39\" >1381078</th>\n                        <td id=\"T_0819f9f7_3be0_11eb_bce6_2c4d544af70erow39_col0\" class=\"data row39 col0\" >Poxoréu</td>\n                        <td id=\"T_0819f9f7_3be0_11eb_bce6_2c4d544af70erow39_col1\" class=\"data row39 col1\" >621</td>\n                        <td id=\"T_0819f9f7_3be0_11eb_bce6_2c4d544af70erow39_col2\" class=\"data row39 col2\" >18</td>\n            </tr>\n            <tr>\n                        <th id=\"T_0819f9f7_3be0_11eb_bce6_2c4d544af70elevel0_row40\" class=\"row_heading level0 row40\" >1358545</th>\n                        <td id=\"T_0819f9f7_3be0_11eb_bce6_2c4d544af70erow40_col0\" class=\"data row40 col0\" >Araputanga</td>\n                        <td id=\"T_0819f9f7_3be0_11eb_bce6_2c4d544af70erow40_col1\" class=\"data row40 col1\" >600</td>\n                        <td id=\"T_0819f9f7_3be0_11eb_bce6_2c4d544af70erow40_col2\" class=\"data row40 col2\" >7</td>\n            </tr>\n            <tr>\n                        <th id=\"T_0819f9f7_3be0_11eb_bce6_2c4d544af70elevel0_row41\" class=\"row_heading level0 row41\" >1380560</th>\n                        <td id=\"T_0819f9f7_3be0_11eb_bce6_2c4d544af70erow41_col0\" class=\"data row41 col0\" >Porto Esperidião</td>\n                        <td id=\"T_0819f9f7_3be0_11eb_bce6_2c4d544af70erow41_col1\" class=\"data row41 col1\" >598</td>\n                        <td id=\"T_0819f9f7_3be0_11eb_bce6_2c4d544af70erow41_col2\" class=\"data row41 col2\" >31</td>\n            </tr>\n            <tr>\n                        <th id=\"T_0819f9f7_3be0_11eb_bce6_2c4d544af70elevel0_row42\" class=\"row_heading level0 row42\" >1373308</th>\n                        <td id=\"T_0819f9f7_3be0_11eb_bce6_2c4d544af70erow42_col0\" class=\"data row42 col0\" >Nobres</td>\n                        <td id=\"T_0819f9f7_3be0_11eb_bce6_2c4d544af70erow42_col1\" class=\"data row42 col1\" >583</td>\n                        <td id=\"T_0819f9f7_3be0_11eb_bce6_2c4d544af70erow42_col2\" class=\"data row42 col2\" >18</td>\n            </tr>\n            <tr>\n                        <th id=\"T_0819f9f7_3be0_11eb_bce6_2c4d544af70elevel0_row43\" class=\"row_heading level0 row43\" >1368646</th>\n                        <td id=\"T_0819f9f7_3be0_11eb_bce6_2c4d544af70erow43_col0\" class=\"data row43 col0\" >Ipiranga do Norte</td>\n                        <td id=\"T_0819f9f7_3be0_11eb_bce6_2c4d544af70erow43_col1\" class=\"data row43 col1\" >559</td>\n                        <td id=\"T_0819f9f7_3be0_11eb_bce6_2c4d544af70erow43_col2\" class=\"data row43 col2\" >3</td>\n            </tr>\n            <tr>\n                        <th id=\"T_0819f9f7_3be0_11eb_bce6_2c4d544af70elevel0_row44\" class=\"row_heading level0 row44\" >1363207</th>\n                        <td id=\"T_0819f9f7_3be0_11eb_bce6_2c4d544af70erow44_col0\" class=\"data row44 col0\" >Cláudia</td>\n                        <td id=\"T_0819f9f7_3be0_11eb_bce6_2c4d544af70erow44_col1\" class=\"data row44 col1\" >558</td>\n                        <td id=\"T_0819f9f7_3be0_11eb_bce6_2c4d544af70erow44_col2\" class=\"data row44 col2\" >5</td>\n            </tr>\n            <tr>\n                        <th id=\"T_0819f9f7_3be0_11eb_bce6_2c4d544af70elevel0_row45\" class=\"row_heading level0 row45\" >1373826</th>\n                        <td id=\"T_0819f9f7_3be0_11eb_bce6_2c4d544af70erow45_col0\" class=\"data row45 col0\" >Nossa Senhora do Livramento</td>\n                        <td id=\"T_0819f9f7_3be0_11eb_bce6_2c4d544af70erow45_col1\" class=\"data row45 col1\" >555</td>\n                        <td id=\"T_0819f9f7_3be0_11eb_bce6_2c4d544af70erow45_col2\" class=\"data row45 col2\" >10</td>\n            </tr>\n            <tr>\n                        <th id=\"T_0819f9f7_3be0_11eb_bce6_2c4d544af70elevel0_row46\" class=\"row_heading level0 row46\" >1390661</th>\n                        <td id=\"T_0819f9f7_3be0_11eb_bce6_2c4d544af70erow46_col0\" class=\"data row46 col0\" >Vera</td>\n                        <td id=\"T_0819f9f7_3be0_11eb_bce6_2c4d544af70erow46_col1\" class=\"data row46 col1\" >533</td>\n                        <td id=\"T_0819f9f7_3be0_11eb_bce6_2c4d544af70erow46_col2\" class=\"data row46 col2\" >6</td>\n            </tr>\n            <tr>\n                        <th id=\"T_0819f9f7_3be0_11eb_bce6_2c4d544af70elevel0_row47\" class=\"row_heading level0 row47\" >1375898</th>\n                        <td id=\"T_0819f9f7_3be0_11eb_bce6_2c4d544af70erow47_col0\" class=\"data row47 col0\" >Nova Olímpia</td>\n                        <td id=\"T_0819f9f7_3be0_11eb_bce6_2c4d544af70erow47_col1\" class=\"data row47 col1\" >511</td>\n                        <td id=\"T_0819f9f7_3be0_11eb_bce6_2c4d544af70erow47_col2\" class=\"data row47 col2\" >16</td>\n            </tr>\n            <tr>\n                        <th id=\"T_0819f9f7_3be0_11eb_bce6_2c4d544af70elevel0_row48\" class=\"row_heading level0 row48\" >1377452</th>\n                        <td id=\"T_0819f9f7_3be0_11eb_bce6_2c4d544af70erow48_col0\" class=\"data row48 col0\" >Paranaíta</td>\n                        <td id=\"T_0819f9f7_3be0_11eb_bce6_2c4d544af70erow48_col1\" class=\"data row48 col1\" >497</td>\n                        <td id=\"T_0819f9f7_3be0_11eb_bce6_2c4d544af70erow48_col2\" class=\"data row48 col2\" >7</td>\n            </tr>\n    </tbody></table>"
     },
     "metadata": {},
     "execution_count": 5
    }
   ],
   "source": [
    "df_by_date_top_50[['municipio', 'casosAcumulado', 'obitosAcumulado']].sort_values(by='casosAcumulado', ascending=False).style.background_gradient(cmap='coolwarm')"
   ]
  },
  {
   "cell_type": "code",
   "execution_count": 6,
   "metadata": {},
   "outputs": [
    {
     "output_type": "execute_result",
     "data": {
      "text/plain": [
       "0      1.593230e+09\n",
       "1      1.604722e+09\n",
       "2      1.594440e+09\n",
       "3      1.588133e+09\n",
       "4      1.592453e+09\n",
       "           ...     \n",
       "189    1.591070e+09\n",
       "190    1.601870e+09\n",
       "191    1.595390e+09\n",
       "192    1.589342e+09\n",
       "193    1.600142e+09\n",
       "Length: 194, dtype: float64"
      ]
     },
     "metadata": {},
     "execution_count": 6
    }
   ],
   "source": [
    "X = df_by_municipio['data'].apply(lambda x : time.mktime(x.timetuple())).values.reshape(-1,1)\n",
    "y = df_by_municipio['casosAcumulado'].values.reshape(-1,1)\n",
    "\n",
    "from sklearn.model_selection import train_test_split\n",
    "X_train,X_test,Y_train,Y_test = train_test_split(X,y,random_state=0)\n",
    "\n",
    "X_train\n",
    "pd.Series(X_train.reshape(1, -1)[0])"
   ]
  },
  {
   "cell_type": "code",
   "execution_count": null,
   "metadata": {},
   "outputs": [],
   "source": []
  }
 ]
}